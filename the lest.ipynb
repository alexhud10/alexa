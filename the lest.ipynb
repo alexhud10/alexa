{
 "cells": [
  {
   "cell_type": "markdown",
   "metadata": {},
   "source": [
    "## Analyzing borrowers’ risk of defaulting\n",
    "\n",
    "Your project is to prepare a report for a bank’s loan division. You’ll need to find out if a customer’s marital status and number of children has an impact on whether they will default on a loan. The bank already has some data on customers’ credit worthiness.\n",
    "\n",
    "Your report will be considered when building a **credit scoring** of a potential customer. A ** credit scoring ** is used to evaluate the ability of a potential borrower to repay their loan."
   ]
  },
  {
   "cell_type": "markdown",
   "metadata": {},
   "source": [
    "### Step 1. Open the data file and have a look at the general information. "
   ]
  },
  {
   "cell_type": "code",
   "execution_count": 3,
   "metadata": {},
   "outputs": [
    {
     "ename": "SyntaxError",
     "evalue": "(unicode error) 'unicodeescape' codec can't decode bytes in position 2-3: truncated \\UXXXXXXXX escape (<ipython-input-3-45b0e81a8844>, line 2)",
     "output_type": "error",
     "traceback": [
      "\u001b[1;36m  File \u001b[1;32m\"<ipython-input-3-45b0e81a8844>\"\u001b[1;36m, line \u001b[1;32m2\u001b[0m\n\u001b[1;33m    data = pd.read_csv('C:\\Users\\MiriHad\\anaconda3\\projects jupyter')\u001b[0m\n\u001b[1;37m                      ^\u001b[0m\n\u001b[1;31mSyntaxError\u001b[0m\u001b[1;31m:\u001b[0m (unicode error) 'unicodeescape' codec can't decode bytes in position 2-3: truncated \\UXXXXXXXX escape\n"
     ]
    }
   ],
   "source": [
    "import pandas as pd\n",
    "data = pd.read_csv('C:\\Users\\MiriHad\\anaconda3\\projects jupyter')\n",
    "#information about the data\n",
    "print(data.head(10))\n",
    "print(data.info())\n",
    "print(data.shape)"
   ]
  },
  {
   "cell_type": "markdown",
   "metadata": {},
   "source": [
    "### Conclusion"
   ]
  },
  {
   "cell_type": "markdown",
   "metadata": {},
   "source": []
  },
  {
   "cell_type": "markdown",
   "metadata": {},
   "source": [
    "### Step 2. Data preprocessing"
   ]
  },
  {
   "cell_type": "markdown",
   "metadata": {},
   "source": [
    "### Processing missing values"
   ]
  },
  {
   "cell_type": "code",
   "execution_count": null,
   "metadata": {},
   "outputs": [],
   "source": [
    "#changing negative values\n",
    "data['days_employed'] = data['days_employed'].abs()\n"
   ]
  },
  {
   "cell_type": "code",
   "execution_count": null,
   "metadata": {},
   "outputs": [],
   "source": [
    "#chacking the null values and fill them:\n",
    "\n",
    "#the rate of the missing data in the total income column \n",
    "missing_data = data.isnull().sum()[10]\n",
    "row_num = data.shape[0]\n",
    "num_missing_data = missing_data /  row_num\n",
    "print('the rate of missing data in income column:{:.1%}'.format(num_missing_data))\n",
    "\n",
    "\n",
    "#mean of days imployed\n",
    "days_employed_mean = data['days_employed'].mean()\n",
    "print('days employed mean value:', days_employed_mean)\n",
    "#median income for more acurate answer\n",
    "total_income_median = data['total_income'].median()\n",
    "print('total income median value:', total_income_median)\n",
    "#Filling the missing values of income with the median \n",
    "#because we want to get the middle \n",
    "#value of the population, so that a more reliable answer is obtained\n",
    "#filling the missing values\n",
    "data['days_employed'] = data['days_employed'].fillna(days_employed_mean)\n",
    "data['total_income'] = data['total_income'].fillna(total_income_median) \n",
    "#checking\n",
    "print(data.isnull().sum())"
   ]
  },
  {
   "cell_type": "markdown",
   "metadata": {},
   "source": [
    "### Conclusion"
   ]
  },
  {
   "cell_type": "markdown",
   "metadata": {},
   "source": []
  },
  {
   "cell_type": "markdown",
   "metadata": {},
   "source": [
    "### Data type replacement"
   ]
  },
  {
   "cell_type": "code",
   "execution_count": null,
   "metadata": {},
   "outputs": [],
   "source": [
    "#replacing float data to int\n",
    "#we dont need float type values\n",
    "print(data.info())\n",
    "data['total_income'] = data['total_income'].astype('int64')\n",
    "data['days_employed'] = data['days_employed'].astype('int64')\n",
    "#checking\n",
    "print(data.info())"
   ]
  },
  {
   "cell_type": "markdown",
   "metadata": {},
   "source": [
    "### Conclusion"
   ]
  },
  {
   "cell_type": "markdown",
   "metadata": {},
   "source": []
  },
  {
   "cell_type": "markdown",
   "metadata": {},
   "source": [
    "### Processing duplicates"
   ]
  },
  {
   "cell_type": "code",
   "execution_count": null,
   "metadata": {},
   "outputs": [],
   "source": [
    "#changing the string values to .lower to minimize duplicates\n",
    "data['education'] = data['education'].str.lower()\n",
    "data['family_status'] = data['family_status'].str.lower()\n",
    "data['income_type'] = data['income_type'].str.lower()\n",
    "data['purpose'] = data['purpose'].str.lower()\n"
   ]
  },
  {
   "cell_type": "code",
   "execution_count": null,
   "metadata": {},
   "outputs": [],
   "source": [
    "#lemmatization in purpose reduce the duplication\n",
    "#----need more explanation to solve it propoerly----\n",
    "\n",
    "#import nltk\n",
    "#from nltk.stem import WordNetLemmatizer\n",
    "#wordnet_lemma = WordNetLemmatizer()\n",
    "\n",
    "#purpose = data['purpose']\n",
    "\n",
    "#for i in purpose:\n",
    "        \n",
    "#        words = nltk.word_tokenize(i)\n",
    "#        print(words)\n",
    "#        for w in words:\n",
    "#            if w in i\n",
    "#        for w in words:\n",
    "#            lemmas = [wordnet_lemma.lemmatize(w, pos = 'n')]\n",
    "#            print(lemmas)\n",
    "  \n",
    "        \n",
    "        \n",
    "    \n",
    "from nltk.stem import SnowballStemmer\n",
    "english_stemmer = SnowballStemmer('english')\n",
    "\n",
    "def words(purpose):   \n",
    "    stemmed_word = english_stemmer.stem(purpose).split()\n",
    "    #print(stemmed_word)\n",
    "    for i in stemmed_word:\n",
    "        #print(i)\n",
    "        if 'wed' in i :\n",
    "            return 'wedding'\n",
    "        elif 'hous' in i or 'proper' in i or 'est' in i:  \n",
    "            return 'house'\n",
    "        elif 'car' in i:\n",
    "            return 'car'\n",
    "        elif 'educ' in i or 'university' in i:\n",
    "            return 'university' \n",
    "\n",
    "data['purpose_clean'] = data['purpose'].apply(words)\n",
    "        \n",
    "\n",
    "\n",
    "  \n",
    "            \n",
    "            \n",
    "                      \n",
    "          \n",
    "       \n",
    "                  \n",
    "                  \n",
    "              "
   ]
  },
  {
   "cell_type": "code",
   "execution_count": null,
   "metadata": {},
   "outputs": [],
   "source": [
    "#finding duplicated data:\n",
    "print(data.duplicated().sum())\n",
    "data = data.drop_duplicates().reset_index(drop=True)"
   ]
  },
  {
   "cell_type": "markdown",
   "metadata": {},
   "source": [
    "### Conclusion"
   ]
  },
  {
   "cell_type": "markdown",
   "metadata": {},
   "source": []
  },
  {
   "cell_type": "markdown",
   "metadata": {},
   "source": [
    "### Categorizing Data"
   ]
  },
  {
   "cell_type": "code",
   "execution_count": null,
   "metadata": {},
   "outputs": [],
   "source": [
    "\n",
    "#more information with grouping\n",
    "#categorizing by grouping\n",
    "#categorizing by dictionary- we will not use the info of all the columns\n",
    "data = data[['children', 'family_status', 'income_type', 'total_income', 'debt', 'purpose']]\n",
    "print(data)\n",
    "print(data.columns)\n",
    "by_debt = data.groupby('debt').count()\n",
    "print(by_debt)\n",
    "\n",
    "by_family_status = data.groupby('family_status').sum()\n",
    "print(by_family_status)\n",
    "\n",
    "by_income_type = data.groupby('income_type').sum()\n",
    "print(by_income_type)\n",
    "\n",
    "\n",
    "\n",
    "\n",
    "\n",
    "\n",
    "\n",
    "\n",
    "\n",
    "\n",
    "\n",
    "\n",
    "\n",
    "    \n",
    "\n",
    "\n"
   ]
  },
  {
   "cell_type": "markdown",
   "metadata": {},
   "source": [
    "### Conclusion"
   ]
  },
  {
   "cell_type": "markdown",
   "metadata": {},
   "source": []
  },
  {
   "cell_type": "markdown",
   "metadata": {},
   "source": [
    "### Step 3. Answer these questions"
   ]
  },
  {
   "cell_type": "markdown",
   "metadata": {},
   "source": [
    "- Is there a relation between having kids and repaying a loan on time?"
   ]
  },
  {
   "cell_type": "code",
   "execution_count": null,
   "metadata": {},
   "outputs": [],
   "source": [
    "\n",
    "no_debt= data[data['debt']==0]\n",
    "yes_debt= data[data['debt']==1]\n",
    "\n",
    "no_debt_mean = no_debt['children'].mean()\n",
    "yes_debt_mean = yes_debt['children'].mean()\n",
    "\n",
    "print('the evarege num of child of people without default loan', no_debt_mean)         \n",
    "print('the evarege num of child of people with default loan', yes_debt_mean)\n",
    "\n",
    "division =1-(no_debt_mean / yes_debt_mean)\n",
    "print('there is {:.1%} difference between peop '.format(division))\n",
    "\n"
   ]
  },
  {
   "cell_type": "markdown",
   "metadata": {},
   "source": [
    "We examined whether there is an difference in the average amount of children between those who repaid a loan and those who did not repay a loan on time. The amount of children does not seem to affect the repayment of a loan on time"
   ]
  },
  {
   "cell_type": "markdown",
   "metadata": {},
   "source": []
  },
  {
   "cell_type": "markdown",
   "metadata": {},
   "source": [
    "- Is there a relation between marital status and repaying a loan on time?"
   ]
  },
  {
   "cell_type": "code",
   "execution_count": null,
   "metadata": {},
   "outputs": [],
   "source": [
    "\n",
    "\n",
    "#status = data[['debt','family_status']]\n",
    "#pivot = pd.pivot_table(status, columns=['family_status'],\n",
    "#                       values=['debt'], aggfunc='sum')\n",
    "#print(pivot)\n",
    "\n",
    "\n",
    "\n",
    "\n",
    "status_no_debt = data[data['debt']==0]['family_status'].value_counts()\n",
    "all_status = data['family_status'].value_counts()\n",
    "\n",
    "print(status_no_debt)\n",
    "print('')\n",
    "print(all_status)\n",
    "\n",
    "married = status_no_debt[0] / all_status[0]\n",
    "civil = status_no_debt[1] / all_status[1]\n",
    "unmarried = status_no_debt[2] / all_status[2]\n",
    "divorced = status_no_debt[3] / all_status[3]\n",
    "widow = status_no_debt[4] / all_status[4]\n",
    "\n",
    "#counting the rate of specific merital status with no debt compared to \n",
    "#the same marital status\n",
    "print('married with no debt: {:.1%}'.format(married))\n",
    "print('civil partnership with no debt: {:.1%}'.format(civil))\n",
    "print('unmarried with no debt: {:.1%}'.format(unmarried))\n",
    "print('divorced with no debt: {:.1%}'.format(divorced))\n",
    "print('widow with no debt: {:.1%}'.format(widow))\n",
    "\n",
    "\n",
    "#-----A question to the examiner--------\n",
    "#I was looking to do the test more automatically. \n",
    "#Using a loop and a dictionary. \n",
    "#I would like to recieve tips on how to do the exercise \n",
    "#more effective\n",
    "\n",
    "\n",
    "\n"
   ]
  },
  {
   "cell_type": "markdown",
   "metadata": {},
   "source": [
    "### Conclusion"
   ]
  },
  {
   "cell_type": "markdown",
   "metadata": {},
   "source": [
    "In each status group, we examined the proportion of people who paid a loan on time versus the same population. We found that there are not many differences between populations."
   ]
  },
  {
   "cell_type": "markdown",
   "metadata": {},
   "source": [
    "- Is there a relation between income level and repaying a loan on time?"
   ]
  },
  {
   "cell_type": "code",
   "execution_count": null,
   "metadata": {},
   "outputs": [],
   "source": [
    "\n",
    "income_with_debt = data[data['debt']==1]['total_income'].sum()\n",
    "print('average income people with debt:', income_with_debt.mean())\n",
    "income_withot_debt = data[data['debt']==0]['total_income'].sum()\n",
    "print('average income without debt:', income_withot_debt.mean())\n",
    "div = 1-(income_with_debt.mean() / income_withot_debt.mean())\n",
    "print('The ratio of average income with debt and without debt: {:.1%}'.format(div))"
   ]
  },
  {
   "cell_type": "markdown",
   "metadata": {},
   "source": [
    "### Conclusion"
   ]
  },
  {
   "cell_type": "markdown",
   "metadata": {},
   "source": [
    "We looked at average income of people with debt and without debt and found that the average income of customers who repaid debt are much higher (at 91%)"
   ]
  },
  {
   "cell_type": "markdown",
   "metadata": {},
   "source": [
    "- How do different loan purposes affect on-time repayment of the loan?"
   ]
  },
  {
   "cell_type": "code",
   "execution_count": null,
   "metadata": {
    "scrolled": true
   },
   "outputs": [],
   "source": [
    "print(data['purpose'].value_counts())\n",
    "debt_yes = data[data['debt']==1]\n",
    "debt_no = data[data['debt']==0]\n",
    "\n",
    "purpose = data['purpose']\n",
    "for row in purpose:\n",
    "    try:\n",
    "        \n",
    "\n"
   ]
  },
  {
   "cell_type": "markdown",
   "metadata": {},
   "source": [
    "### Conclusion"
   ]
  },
  {
   "cell_type": "markdown",
   "metadata": {},
   "source": []
  },
  {
   "cell_type": "markdown",
   "metadata": {},
   "source": [
    "### Step 4. General conclusion"
   ]
  },
  {
   "cell_type": "markdown",
   "metadata": {},
   "source": [
    "Our goal is to find influences from various factors like marital status and number of children on loan repayment on time. First we arranged the missing Data and duplicates. Next, we calculated every single parameter sepatately. We discovered that the values of number of children and marital status is not a factor affecting loan repayment. In contrast, people with higher than average income can repay the loan on time and not incur debt."
   ]
  },
  {
   "cell_type": "markdown",
   "metadata": {},
   "source": [
    "### Project Readiness Checklist\n",
    "\n",
    "Put 'x' in the completed points. Then press Shift + Enter."
   ]
  },
  {
   "cell_type": "markdown",
   "metadata": {},
   "source": [
    "- [x]  file open;\n",
    "- [X]  file examined;\n",
    "- [X]  missing values defined;\n",
    "- [X]  missing values are filled;\n",
    "- [X]  an explanation of which missing value types were detected;\n",
    "- [X]  explanation for the possible causes of missing values;\n",
    "- [X]  an explanation of how the blanks are filled;\n",
    "- [X]  replaced the real data type with an integer;\n",
    "- [X]  an explanation of which method is used to change the data type and why;\n",
    "- [X]  duplicates deleted;\n",
    "- [X]  an explanation of which method is used to find and remove duplicates;\n",
    "- [X]  description of the possible reasons for the appearance of duplicates in the data;\n",
    "- [x]  data is categorized;\n",
    "- [X]  an explanation of the principle of data categorization;\n",
    "- [X]  an answer to the question \"Is there a relation between having kids and repaying a loan on time?\";\n",
    "- [X]  an answer to the question \" Is there a relation between marital status and repaying a loan on time?\";\n",
    "- [X]   an answer to the question \" Is there a relation between income level and repaying a loan on time?\";\n",
    "- [ ]  an answer to the question \" How do different loan purposes affect on-time repayment of the loan?\"\n",
    "- [X]  conclusions are present on each stage;\n",
    "- [X]  a general conclusion is made."
   ]
  },
  {
   "cell_type": "code",
   "execution_count": null,
   "metadata": {},
   "outputs": [],
   "source": []
  }
 ],
 "metadata": {
  "kernelspec": {
   "display_name": "Python 3",
   "language": "python",
   "name": "python3"
  },
  "language_info": {
   "codemirror_mode": {
    "name": "ipython",
    "version": 3
   },
   "file_extension": ".py",
   "mimetype": "text/x-python",
   "name": "python",
   "nbconvert_exporter": "python",
   "pygments_lexer": "ipython3",
   "version": "3.7.6"
  }
 },
 "nbformat": 4,
 "nbformat_minor": 2
}
